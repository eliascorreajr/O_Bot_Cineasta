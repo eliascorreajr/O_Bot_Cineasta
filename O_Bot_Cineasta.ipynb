{
  "cells": [
    {
      "cell_type": "markdown",
      "metadata": {
        "id": "view-in-github",
        "colab_type": "text"
      },
      "source": [
        "<a href=\"https://colab.research.google.com/github/eliascorreajr/O_Bot_Cineasta/blob/main/O_Bot_Cineasta.ipynb\" target=\"_parent\"><img src=\"https://colab.research.google.com/assets/colab-badge.svg\" alt=\"Open In Colab\"/></a>"
      ]
    },
    {
      "cell_type": "code",
      "execution_count": null,
      "metadata": {
        "id": "PfmKTmn2TlVN"
      },
      "outputs": [],
      "source": []
    },
    {
      "cell_type": "markdown",
      "metadata": {
        "id": "_-MS0dGZfdpt"
      },
      "source": [
        "🎬 O Bot Cineasta 🍿\n",
        "Imagine um amigo entusiasta de cinema que não só conhece todos os filmes e séries, mas também consegue falar sobre eles de forma descontraída e interessante. Agora imagine que esse amigo é um bot! Esse é o \"Bot Cineasta\", um projeto feito em Python que usa a magia da API do TMDb (The Movie Database) para buscar informações sobre qualquer filme ou série que você possa imaginar.\n",
        "\n",
        "🤖 Como Funciona o Bot?\n",
        "Pergunte Qualquer Coisa: Você quer saber sobre \"Batman\"? Ou talvez algo mais nicho como \"O Grande Hotel Budapeste\"? Não se preocupe! Digite o nome, e o Bot Cineasta entra em ação.\n",
        "\n",
        "Detalhes, Detalhes, Detalhes: Além do título e da sinopse, o bot te dá um toque especial — ele te diz o ano de lançamento. Agora você pode distinguir entre o \"Batman\" de 1989 e o de 2021, sem confusão!\n",
        "\n",
        "Perdido em Tradução?: Se a sinopse estiver em inglês, não tem problema! O Bot Cineasta é poliglota, graças ao Google Translator, e traz tudo mastigadinho em português para você.\n",
        "\n",
        "Criatividade a Mil: Após pegar todas essas informações, o bot não para por aí. Ele usa uma IA para reescrever a sinopse de uma maneira mais descontraída. Porque, vamos combinar, às vezes os resumos são um pouco... secos.\n",
        "\n",
        "🔄 Loop Infinito de Diversão\n",
        "O Bot Cineasta não cansa! Ele fica rodando em um loop, pronto para a próxima consulta, até você dizer \"sair\". Ele é o companheiro perfeito para suas noites de cinema, ajudando você a escolher o que assistir com informações detalhadas e um toque de diversão.\n",
        "\n",
        "🎥 Em Resumo\n",
        "Esse projeto transforma o que poderia ser uma busca monótona por informações em uma experiência interativa e envolvente. É como ter um amigo cinéfilo digital ao seu lado, pronto para ajudar você a navegar pelo vasto mundo do entretenimento. Então, prepare a pipoca e deixe o Bot Cineasta fazer o trabalho pesado!\n"
      ]
    },
    {
      "cell_type": "code",
      "execution_count": 30,
      "metadata": {
        "collapsed": true,
        "id": "pX1-xlerfy0q",
        "colab": {
          "base_uri": "https://localhost:8080/"
        },
        "outputId": "c225a74a-cd96-4c12-c4f3-1d9d1164b17a"
      },
      "outputs": [
        {
          "output_type": "stream",
          "name": "stdout",
          "text": [
            "Requirement already satisfied: tmdbsimple in /usr/local/lib/python3.10/dist-packages (2.9.1)\n",
            "Requirement already satisfied: requests in /usr/local/lib/python3.10/dist-packages (from tmdbsimple) (2.31.0)\n",
            "Requirement already satisfied: charset-normalizer<4,>=2 in /usr/local/lib/python3.10/dist-packages (from requests->tmdbsimple) (3.3.2)\n",
            "Requirement already satisfied: idna<4,>=2.5 in /usr/local/lib/python3.10/dist-packages (from requests->tmdbsimple) (2.10)\n",
            "Requirement already satisfied: urllib3<3,>=1.21.1 in /usr/local/lib/python3.10/dist-packages (from requests->tmdbsimple) (2.0.7)\n",
            "Requirement already satisfied: certifi>=2017.4.17 in /usr/local/lib/python3.10/dist-packages (from requests->tmdbsimple) (2024.2.2)\n",
            "Requirement already satisfied: googletrans==4.0.0-rc1 in /usr/local/lib/python3.10/dist-packages (4.0.0rc1)\n",
            "Requirement already satisfied: httpx==0.13.3 in /usr/local/lib/python3.10/dist-packages (from googletrans==4.0.0-rc1) (0.13.3)\n",
            "Requirement already satisfied: certifi in /usr/local/lib/python3.10/dist-packages (from httpx==0.13.3->googletrans==4.0.0-rc1) (2024.2.2)\n",
            "Requirement already satisfied: hstspreload in /usr/local/lib/python3.10/dist-packages (from httpx==0.13.3->googletrans==4.0.0-rc1) (2024.5.1)\n",
            "Requirement already satisfied: sniffio in /usr/local/lib/python3.10/dist-packages (from httpx==0.13.3->googletrans==4.0.0-rc1) (1.3.1)\n",
            "Requirement already satisfied: chardet==3.* in /usr/local/lib/python3.10/dist-packages (from httpx==0.13.3->googletrans==4.0.0-rc1) (3.0.4)\n",
            "Requirement already satisfied: idna==2.* in /usr/local/lib/python3.10/dist-packages (from httpx==0.13.3->googletrans==4.0.0-rc1) (2.10)\n",
            "Requirement already satisfied: rfc3986<2,>=1.3 in /usr/local/lib/python3.10/dist-packages (from httpx==0.13.3->googletrans==4.0.0-rc1) (1.5.0)\n",
            "Requirement already satisfied: httpcore==0.9.* in /usr/local/lib/python3.10/dist-packages (from httpx==0.13.3->googletrans==4.0.0-rc1) (0.9.1)\n",
            "Requirement already satisfied: h11<0.10,>=0.8 in /usr/local/lib/python3.10/dist-packages (from httpcore==0.9.*->httpx==0.13.3->googletrans==4.0.0-rc1) (0.9.0)\n",
            "Requirement already satisfied: h2==3.* in /usr/local/lib/python3.10/dist-packages (from httpcore==0.9.*->httpx==0.13.3->googletrans==4.0.0-rc1) (3.2.0)\n",
            "Requirement already satisfied: hyperframe<6,>=5.2.0 in /usr/local/lib/python3.10/dist-packages (from h2==3.*->httpcore==0.9.*->httpx==0.13.3->googletrans==4.0.0-rc1) (5.2.0)\n",
            "Requirement already satisfied: hpack<4,>=3.0 in /usr/local/lib/python3.10/dist-packages (from h2==3.*->httpcore==0.9.*->httpx==0.13.3->googletrans==4.0.0-rc1) (3.0.0)\n"
          ]
        }
      ],
      "source": [
        "#Instalando o SDK do Google\n",
        "!pip install -q -U google-generativeai\n",
        "!pip install tmdbsimple\n",
        "!pip install googletrans==4.0.0-rc1\n"
      ]
    },
    {
      "cell_type": "code",
      "execution_count": 32,
      "metadata": {
        "id": "5RJE33w5gkGE"
      },
      "outputs": [],
      "source": [
        "import requests\n",
        "import numpy as np\n",
        "import tmdbsimple as tmdb\n",
        "import pandas as pd\n",
        "import google.generativeai as genai\n",
        "from googletrans import Translator, LANGUAGES\n",
        "from google.colab import userdata"
      ]
    },
    {
      "cell_type": "code",
      "execution_count": 33,
      "metadata": {
        "id": "8SoLqjMahVfE"
      },
      "outputs": [],
      "source": [
        "# Configurações da API do TMDb\n",
        "tmdb.API_KEY = userdata.get(\"CHAVE_SECRETA_TMDB\")\n",
        "tmdb.REQUESTS_TIMEOUT = 10"
      ]
    },
    {
      "cell_type": "code",
      "execution_count": 34,
      "metadata": {
        "id": "wmMFuPimjZ21"
      },
      "outputs": [],
      "source": [
        "# Configurações da API do Google AI Studio\n",
        "api_key = userdata.get(\"CHAVE_SECRETA_AISTUDIO\")\n",
        "genai.configure(api_key=api_key)\n"
      ]
    },
    {
      "cell_type": "code",
      "source": [
        "# Modelos de embedding e geração de texto\n",
        "model_embedding = \"models/embedding-001\"\n",
        "model_geracao = genai.GenerativeModel(\"gemini-1.0-pro\", generation_config={\"candidate_count\": 1, \"temperature\": 0.5})\n",
        "\n",
        "# Inicializar o tradutor\n",
        "translator = Translator()\n",
        "\n",
        "# Função para criar embeddings\n",
        "def criar_embedding(titulo, conteudo):\n",
        "    \"\"\"Cria um embedding para um documento.\"\"\"\n",
        "    try:\n",
        "        if conteudo is None or conteudo.strip() == \"\":\n",
        "            return None\n",
        "        return genai.embed_content(\n",
        "            model=model_embedding,\n",
        "            content=conteudo,\n",
        "            title=titulo,\n",
        "            task_type=\"RETRIEVAL_DOCUMENT\"\n",
        "        )[\"embedding\"]\n",
        "    except Exception as e:\n",
        "        print(f\"Erro ao criar embedding: {e}\")\n",
        "        return None\n",
        "\n",
        "# Função para buscar por similaridade\n",
        "def buscar_similaridade(consulta, dataframe):\n",
        "    \"\"\"Busca o documento mais similar à consulta.\"\"\"\n",
        "    try:\n",
        "        embedding_consulta = genai.embed_content(model=model_embedding, content=consulta, task_type=\"RETRIEVAL_QUERY\")[\"embedding\"]\n",
        "        produtos_escalares = np.dot(np.stack(dataframe[\"Embeddings\"].to_numpy()), embedding_consulta)\n",
        "        indice = np.argmax(produtos_escalares)\n",
        "        return dataframe.iloc[indice]  # Retorna a Series correspondente à linha\n",
        "    except Exception as e:\n",
        "        print(f\"Erro ao buscar similaridade: {e}\")\n",
        "        return None\n",
        "\n",
        "# Função para gerar resposta\n",
        "def gerar_resposta(resultado):\n",
        "    \"\"\"Gera uma resposta completa e descontraída.\"\"\"\n",
        "    try:\n",
        "        titulo = resultado.get('Título', \"Informação indisponível\")\n",
        "        ano = resultado.get('release_date', \"Data Indisponível\")[:4] if 'release_date' in resultado else \"Data Indisponível\"\n",
        "        sinopse_original = resultado.get('Conteúdo', \"Sem conteúdo disponível\")\n",
        "        classificacao = str(resultado.get('Classificação', \"N/A\"))\n",
        "\n",
        "\n",
        "        if translator.detect(sinopse_original).lang == 'en':\n",
        "            sinopse_original = translator.translate(sinopse_original, dest='pt').text\n",
        "\n",
        "        prompt = f\"Título: {titulo}\\n\\nAno: {ano}\\n\\nSinopse Original: {sinopse_original}\\n\\nClassificação: {classificacao}\\n\\nReescreva a sinopse de forma mais descontraída, sem adicionar novas informações:\"\n",
        "        resposta = model_geracao.generate_content(prompt)\n",
        "\n",
        "        return (\n",
        "            f\"\\n{'.' * 70}\\n\"  # Linha pontilhada antes\n",
        "            f\"Título: {titulo}\\n\"\n",
        "            f\"{'.' * 70}\\n\"  # Linha pontilhada depois\n",
        "            f\"Sinopse Original: {sinopse_original}\\n\"\n",
        "            f\"{'.' * 70}\\n\"\n",
        "            f\"Vamos lá... opinião sincera: {resposta.text}\\n\"\n",
        "            f\"{'.' * 70}\\n\"\n",
        "            f\"Classificação Geral: {classificacao}\\n\"\n",
        "            f\"{'.' * 70}\\n\"\n",
        "            f\"Ano de Lançamento: {ano}\\n\"\n",
        "            f\"{'.' * 70}\\n\"\n",
        "        )\n",
        "    except Exception as e:\n",
        "        print(f\"Erro ao gerar resposta: {e}\")\n",
        "        return \"Desculpe, não consegui gerar uma resposta para sua pergunta.\"\n",
        "\n",
        "# Loop principal do programa\n",
        "while True:\n",
        "    tipo_conteudo = input(\"Deseja buscar um filme, série ou pessoa? (ou 'sair' para encerrar): \").lower()\n",
        "\n",
        "    if tipo_conteudo == 'sair':\n",
        "        break\n",
        "\n",
        "    if tipo_conteudo not in (\"filme\", \"série\", \"pessoa\"):\n",
        "        print(\"Tipo de conteúdo inválido. Por favor, escolha entre 'filme', 'série' ou 'pessoa'.\")\n",
        "        continue\n",
        "\n",
        "    nome = input(f\"Digite o nome exato do {tipo_conteudo}: \")\n",
        "\n",
        "    try:\n",
        "        tipo_pesquisa = \"movie\" if tipo_conteudo == \"filme\" else \"tv\" if tipo_conteudo == \"série\" else \"person\"\n",
        "        search = tmdb.Search()\n",
        "\n",
        "        if tipo_pesquisa == \"movie\":\n",
        "            search.movie(query=nome, language='pt-BR')\n",
        "        elif tipo_pesquisa == \"tv\":\n",
        "            search.tv(query=nome, language='pt-BR')\n",
        "        else:\n",
        "            search.person(query=nome)\n",
        "\n",
        "        if not search.results:\n",
        "            print(\"Nenhum resultado encontrado para sua pesquisa. Verifique se o nome está correto.\")\n",
        "            continue\n",
        "\n",
        "        df = pd.DataFrame(search.results)\n",
        "        df['ID'] = df['id']\n",
        "        df['Título'] = df['title'] if 'title' in df.columns else df['name'] if 'name' in df.columns else \"Título Indisponível\"\n",
        "        df['Conteúdo'] = df['overview'] if 'overview' in df.columns else \"Sem sinopse disponível\"\n",
        "        df['Classificação'] = (df['vote_average'] * 10).fillna(0) if 'vote_average' in df.columns else 0\n",
        "        df['Ano'] = df['release_date'].str[:4] if 'release_date' in df.columns else df['first_air_date'].str[:4] if 'first_air_date' in df.columns else \"Data Indisponível\"\n",
        "\n",
        "        df[\"Embeddings\"] = df.apply(lambda row: criar_embedding(row[\"Título\"], row[\"Conteúdo\"]), axis=1)\n",
        "        df = df.dropna(subset=['Embeddings'])\n",
        "\n",
        "        resultado = buscar_similaridade(nome, df)\n",
        "        if resultado is not None:\n",
        "            resposta_final = gerar_resposta(resultado)\n",
        "            print(\"\\nResposta:\\n\", resposta_final)\n",
        "        else:\n",
        "            print(\"Desculpe, não consegui encontrar uma resposta para sua pergunta.\")\n",
        "\n",
        "    except requests.exceptions.RequestException as e:\n",
        "        print(f\"Erro na comunicação com a API do TMDb: {e}\")\n",
        "    except Exception as e:\n",
        "        print(f\"Erro inesperado: {e}\")\n"
      ],
      "metadata": {
        "id": "mYW2-CrB3Tnb",
        "colab": {
          "base_uri": "https://localhost:8080/",
          "height": 349
        },
        "outputId": "f795bdac-21e2-40e3-b1f5-d8b000517546"
      },
      "execution_count": 38,
      "outputs": [
        {
          "name": "stdout",
          "output_type": "stream",
          "text": [
            "Deseja buscar um filme, série ou pessoa? (ou 'sair' para encerrar): filme\n",
            "Digite o nome exato do filme: kung fu panda 4\n",
            "\n",
            "Resposta:\n",
            " \n",
            "......................................................................\n",
            "Título: Kung Fu Panda 4\n",
            "......................................................................\n",
            "Sinopse Original: Po está prestes a se tornar o novo líder espiritual do Vale da Paz, mas antes que possa fazer isso, ele deve encontrar um sucessor para se tornar o novo Dragão Guerreiro.  Ele parece encontrar uma em Zhen, uma raposa com muitas habilidades promissoras, mas que não gosta muito da ideia de Po treiná-la.\n",
            "......................................................................\n",
            "Vamos lá... opinião sincera: Prepare-se para a quarta aventura do nosso querido Po, o panda mais legal do pedaço! Desta vez, ele está prestes a virar o chefe espiritual do Vale da Paz, mas antes precisa encontrar um novo Dragão Guerreiro. E adivinha quem ele acha que é a escolhida? Zhen, uma raposa cheia de habilidades, mas que não está muito a fim de ser treinada por Po. Será que ele vai conseguir convencer essa raposinha a se tornar a nova heroína do Vale da Paz?\n",
            "......................................................................\n",
            "Classificação Geral: 71.2\n",
            "......................................................................\n",
            "Ano de Lançamento: 2024\n",
            "......................................................................\n",
            "\n",
            "Deseja buscar um filme, série ou pessoa? (ou 'sair' para encerrar): sair\n"
          ]
        }
      ]
    }
  ],
  "metadata": {
    "colab": {
      "provenance": [],
      "authorship_tag": "ABX9TyOJDWpAxyDlLSthqpO5Kvne",
      "include_colab_link": true
    },
    "kernelspec": {
      "display_name": "Python 3",
      "name": "python3"
    },
    "language_info": {
      "name": "python"
    }
  },
  "nbformat": 4,
  "nbformat_minor": 0
}